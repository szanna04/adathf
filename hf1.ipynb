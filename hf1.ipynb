{
    "metadata": {
        "kernelspec": {
            "name": "SQL",
            "display_name": "SQL",
            "language": "sql"
        },
        "language_info": {
            "name": "sql",
            "version": ""
        }
    },
    "nbformat_minor": 2,
    "nbformat": 4,
    "cells": [
        {
            "cell_type": "code",
            "source": [
                "select allas as 'Állás megnevezése',\r\n",
                "        min(oradij) as 'Minimális óradíj'\r\n",
                "from munka\r\n",
                "group by allas"
            ],
            "metadata": {
                "azdata_cell_guid": "271aa8ff-1f67-45f4-9a35-5b05bf2b73ae",
                "language": "sql"
            },
            "outputs": [
                {
                    "output_type": "display_data",
                    "data": {
                        "text/html": "(9 rows affected)"
                    },
                    "metadata": {}
                },
                {
                    "output_type": "display_data",
                    "data": {
                        "text/html": "Total execution time: 00:00:00.075"
                    },
                    "metadata": {}
                },
                {
                    "output_type": "execute_result",
                    "metadata": {},
                    "execution_count": 2,
                    "data": {
                        "application/vnd.dataresource+json": {
                            "schema": {
                                "fields": [
                                    {
                                        "name": "Állás megnevezése"
                                    },
                                    {
                                        "name": "Minimális óradíj"
                                    }
                                ]
                            },
                            "data": [
                                {
                                    "Állás megnevezése": "eladó",
                                    "Minimális óradíj": "300"
                                },
                                {
                                    "Állás megnevezése": "futár",
                                    "Minimális óradíj": "300"
                                },
                                {
                                    "Állás megnevezése": "kézbesítő",
                                    "Minimális óradíj": "400"
                                },
                                {
                                    "Állás megnevezése": "kisegítő",
                                    "Minimális óradíj": "300"
                                },
                                {
                                    "Állás megnevezése": "pincér",
                                    "Minimális óradíj": "450"
                                },
                                {
                                    "Állás megnevezése": "raktáros",
                                    "Minimális óradíj": "300"
                                },
                                {
                                    "Állás megnevezése": "ruhatáros",
                                    "Minimális óradíj": "200"
                                },
                                {
                                    "Állás megnevezése": "takarító",
                                    "Minimális óradíj": "250"
                                },
                                {
                                    "Állás megnevezése": "ügyfélszolgálati munkatárs",
                                    "Minimális óradíj": "300"
                                }
                            ]
                        },
                        "text/html": [
                            "<table>",
                            "<tr><th>Állás megnevezése</th><th>Minimális óradíj</th></tr>",
                            "<tr><td>eladó</td><td>300</td></tr>",
                            "<tr><td>futár</td><td>300</td></tr>",
                            "<tr><td>kézbesítő</td><td>400</td></tr>",
                            "<tr><td>kisegítő</td><td>300</td></tr>",
                            "<tr><td>pincér</td><td>450</td></tr>",
                            "<tr><td>raktáros</td><td>300</td></tr>",
                            "<tr><td>ruhatáros</td><td>200</td></tr>",
                            "<tr><td>takarító</td><td>250</td></tr>",
                            "<tr><td>ügyfélszolgálati munkatárs</td><td>300</td></tr>",
                            "</table>"
                        ]
                    }
                }
            ],
            "execution_count": 2
        },
        {
            "cell_type": "code",
            "source": [
                "select allas as 'Állás megnevezése',\r\n",
                "        max(oradij) as 'Maximális óradíj'\r\n",
                "from munka\r\n",
                "group by allas"
            ],
            "metadata": {
                "azdata_cell_guid": "8343e548-a3d4-498b-98e5-7ad0481facf3",
                "language": "sql"
            },
            "outputs": [
                {
                    "output_type": "display_data",
                    "data": {
                        "text/html": "(9 rows affected)"
                    },
                    "metadata": {}
                },
                {
                    "output_type": "display_data",
                    "data": {
                        "text/html": "Total execution time: 00:00:00.065"
                    },
                    "metadata": {}
                },
                {
                    "output_type": "execute_result",
                    "metadata": {},
                    "execution_count": 3,
                    "data": {
                        "application/vnd.dataresource+json": {
                            "schema": {
                                "fields": [
                                    {
                                        "name": "Állás megnevezése"
                                    },
                                    {
                                        "name": "Maximális óradíj"
                                    }
                                ]
                            },
                            "data": [
                                {
                                    "Állás megnevezése": "eladó",
                                    "Maximális óradíj": "500"
                                },
                                {
                                    "Állás megnevezése": "futár",
                                    "Maximális óradíj": "300"
                                },
                                {
                                    "Állás megnevezése": "kézbesítő",
                                    "Maximális óradíj": "450"
                                },
                                {
                                    "Állás megnevezése": "kisegítő",
                                    "Maximális óradíj": "500"
                                },
                                {
                                    "Állás megnevezése": "pincér",
                                    "Maximális óradíj": "450"
                                },
                                {
                                    "Állás megnevezése": "raktáros",
                                    "Maximális óradíj": "300"
                                },
                                {
                                    "Állás megnevezése": "ruhatáros",
                                    "Maximális óradíj": "400"
                                },
                                {
                                    "Állás megnevezése": "takarító",
                                    "Maximális óradíj": "400"
                                },
                                {
                                    "Állás megnevezése": "ügyfélszolgálati munkatárs",
                                    "Maximális óradíj": "300"
                                }
                            ]
                        },
                        "text/html": [
                            "<table>",
                            "<tr><th>Állás megnevezése</th><th>Maximális óradíj</th></tr>",
                            "<tr><td>eladó</td><td>500</td></tr>",
                            "<tr><td>futár</td><td>300</td></tr>",
                            "<tr><td>kézbesítő</td><td>450</td></tr>",
                            "<tr><td>kisegítő</td><td>500</td></tr>",
                            "<tr><td>pincér</td><td>450</td></tr>",
                            "<tr><td>raktáros</td><td>300</td></tr>",
                            "<tr><td>ruhatáros</td><td>400</td></tr>",
                            "<tr><td>takarító</td><td>400</td></tr>",
                            "<tr><td>ügyfélszolgálati munkatárs</td><td>300</td></tr>",
                            "</table>"
                        ]
                    }
                }
            ],
            "execution_count": 3
        },
        {
            "cell_type": "code",
            "source": [
                "select allas as 'Állás megnevezése',\r\n",
                "        avg(oradij) as 'Átlagos óradíj'\r\n",
                "from munka\r\n",
                "group by allas"
            ],
            "metadata": {
                "azdata_cell_guid": "dd34c62d-0215-4b46-909e-086b19ba4173",
                "language": "sql"
            },
            "outputs": [
                {
                    "output_type": "display_data",
                    "data": {
                        "text/html": "(9 rows affected)"
                    },
                    "metadata": {}
                },
                {
                    "output_type": "display_data",
                    "data": {
                        "text/html": "Total execution time: 00:00:00.069"
                    },
                    "metadata": {}
                },
                {
                    "output_type": "execute_result",
                    "metadata": {},
                    "execution_count": 4,
                    "data": {
                        "application/vnd.dataresource+json": {
                            "schema": {
                                "fields": [
                                    {
                                        "name": "Állás megnevezése"
                                    },
                                    {
                                        "name": "Átlagos óradíj"
                                    }
                                ]
                            },
                            "data": [
                                {
                                    "Állás megnevezése": "eladó",
                                    "Átlagos óradíj": "387"
                                },
                                {
                                    "Állás megnevezése": "futár",
                                    "Átlagos óradíj": "300"
                                },
                                {
                                    "Állás megnevezése": "kézbesítő",
                                    "Átlagos óradíj": "425"
                                },
                                {
                                    "Állás megnevezése": "kisegítő",
                                    "Átlagos óradíj": "350"
                                },
                                {
                                    "Állás megnevezése": "pincér",
                                    "Átlagos óradíj": "450"
                                },
                                {
                                    "Állás megnevezése": "raktáros",
                                    "Átlagos óradíj": "300"
                                },
                                {
                                    "Állás megnevezése": "ruhatáros",
                                    "Átlagos óradíj": "266"
                                },
                                {
                                    "Állás megnevezése": "takarító",
                                    "Átlagos óradíj": "333"
                                },
                                {
                                    "Állás megnevezése": "ügyfélszolgálati munkatárs",
                                    "Átlagos óradíj": "300"
                                }
                            ]
                        },
                        "text/html": [
                            "<table>",
                            "<tr><th>Állás megnevezése</th><th>Átlagos óradíj</th></tr>",
                            "<tr><td>eladó</td><td>387</td></tr>",
                            "<tr><td>futár</td><td>300</td></tr>",
                            "<tr><td>kézbesítő</td><td>425</td></tr>",
                            "<tr><td>kisegítő</td><td>350</td></tr>",
                            "<tr><td>pincér</td><td>450</td></tr>",
                            "<tr><td>raktáros</td><td>300</td></tr>",
                            "<tr><td>ruhatáros</td><td>266</td></tr>",
                            "<tr><td>takarító</td><td>333</td></tr>",
                            "<tr><td>ügyfélszolgálati munkatárs</td><td>300</td></tr>",
                            "</table>"
                        ]
                    }
                }
            ],
            "execution_count": 4
        },
        {
            "cell_type": "code",
            "source": [
                "select allas as 'Állás megnevezése',\r\n",
                "        count(*) as 'Előfordulás száma'\r\n",
                "from munka\r\n",
                "where allas is not NULL\r\n",
                "GRoup by allas\r\n",
                "order by count(*) desc"
            ],
            "metadata": {
                "azdata_cell_guid": "1e1c97c4-ab0e-4d3e-b5e8-3a88687ded49",
                "language": "sql"
            },
            "outputs": [
                {
                    "output_type": "display_data",
                    "data": {
                        "text/html": "(9 rows affected)"
                    },
                    "metadata": {}
                },
                {
                    "output_type": "display_data",
                    "data": {
                        "text/html": "Total execution time: 00:00:00.609"
                    },
                    "metadata": {}
                },
                {
                    "output_type": "execute_result",
                    "metadata": {},
                    "execution_count": 7,
                    "data": {
                        "application/vnd.dataresource+json": {
                            "schema": {
                                "fields": [
                                    {
                                        "name": "Állás megnevezése"
                                    },
                                    {
                                        "name": "Előfordulás száma"
                                    }
                                ]
                            },
                            "data": [
                                {
                                    "Állás megnevezése": "eladó",
                                    "Előfordulás száma": "12"
                                },
                                {
                                    "Állás megnevezése": "takarító",
                                    "Előfordulás száma": "9"
                                },
                                {
                                    "Állás megnevezése": "ruhatáros",
                                    "Előfordulás száma": "6"
                                },
                                {
                                    "Állás megnevezése": "raktáros",
                                    "Előfordulás száma": "4"
                                },
                                {
                                    "Állás megnevezése": "kisegítő",
                                    "Előfordulás száma": "4"
                                },
                                {
                                    "Állás megnevezése": "pincér",
                                    "Előfordulás száma": "2"
                                },
                                {
                                    "Állás megnevezése": "kézbesítő",
                                    "Előfordulás száma": "2"
                                },
                                {
                                    "Állás megnevezése": "ügyfélszolgálati munkatárs",
                                    "Előfordulás száma": "1"
                                },
                                {
                                    "Állás megnevezése": "futár",
                                    "Előfordulás száma": "1"
                                }
                            ]
                        },
                        "text/html": [
                            "<table>",
                            "<tr><th>Állás megnevezése</th><th>Előfordulás száma</th></tr>",
                            "<tr><td>eladó</td><td>12</td></tr>",
                            "<tr><td>takarító</td><td>9</td></tr>",
                            "<tr><td>ruhatáros</td><td>6</td></tr>",
                            "<tr><td>raktáros</td><td>4</td></tr>",
                            "<tr><td>kisegítő</td><td>4</td></tr>",
                            "<tr><td>pincér</td><td>2</td></tr>",
                            "<tr><td>kézbesítő</td><td>2</td></tr>",
                            "<tr><td>ügyfélszolgálati munkatárs</td><td>1</td></tr>",
                            "<tr><td>futár</td><td>1</td></tr>",
                            "</table>"
                        ]
                    }
                }
            ],
            "execution_count": 7
        },
        {
            "cell_type": "code",
            "source": [
                "select allas as 'Állás megnevezése',\r\n",
                "        avg(oraszam) as 'Átlagos óraszám'\r\n",
                "from munka\r\n",
                "group by allas"
            ],
            "metadata": {
                "azdata_cell_guid": "71b11f43-e5c5-4ee2-9167-b2d8498591b0",
                "language": "sql"
            },
            "outputs": [
                {
                    "output_type": "display_data",
                    "data": {
                        "text/html": "(9 rows affected)"
                    },
                    "metadata": {}
                },
                {
                    "output_type": "display_data",
                    "data": {
                        "text/html": "Total execution time: 00:00:00.062"
                    },
                    "metadata": {}
                },
                {
                    "output_type": "execute_result",
                    "metadata": {},
                    "execution_count": 8,
                    "data": {
                        "application/vnd.dataresource+json": {
                            "schema": {
                                "fields": [
                                    {
                                        "name": "Állás megnevezése"
                                    },
                                    {
                                        "name": "Átlagos óraszám"
                                    }
                                ]
                            },
                            "data": [
                                {
                                    "Állás megnevezése": "eladó",
                                    "Átlagos óraszám": "4"
                                },
                                {
                                    "Állás megnevezése": "futár",
                                    "Átlagos óraszám": "5"
                                },
                                {
                                    "Állás megnevezése": "kézbesítő",
                                    "Átlagos óraszám": "5"
                                },
                                {
                                    "Állás megnevezése": "kisegítő",
                                    "Átlagos óraszám": "5"
                                },
                                {
                                    "Állás megnevezése": "pincér",
                                    "Átlagos óraszám": "6"
                                },
                                {
                                    "Állás megnevezése": "raktáros",
                                    "Átlagos óraszám": "5"
                                },
                                {
                                    "Állás megnevezése": "ruhatáros",
                                    "Átlagos óraszám": "4"
                                },
                                {
                                    "Állás megnevezése": "takarító",
                                    "Átlagos óraszám": "4"
                                },
                                {
                                    "Állás megnevezése": "ügyfélszolgálati munkatárs",
                                    "Átlagos óraszám": "4"
                                }
                            ]
                        },
                        "text/html": [
                            "<table>",
                            "<tr><th>Állás megnevezése</th><th>Átlagos óraszám</th></tr>",
                            "<tr><td>eladó</td><td>4</td></tr>",
                            "<tr><td>futár</td><td>5</td></tr>",
                            "<tr><td>kézbesítő</td><td>5</td></tr>",
                            "<tr><td>kisegítő</td><td>5</td></tr>",
                            "<tr><td>pincér</td><td>6</td></tr>",
                            "<tr><td>raktáros</td><td>5</td></tr>",
                            "<tr><td>ruhatáros</td><td>4</td></tr>",
                            "<tr><td>takarító</td><td>4</td></tr>",
                            "<tr><td>ügyfélszolgálati munkatárs</td><td>4</td></tr>",
                            "</table>"
                        ]
                    }
                }
            ],
            "execution_count": 8
        },
        {
            "cell_type": "code",
            "source": [
                "select allas as 'Állás megnevezése',\r\n",
                "        max(oraszam) as 'Maximális óraszám'\r\n",
                "from munka\r\n",
                "group by allas"
            ],
            "metadata": {
                "azdata_cell_guid": "f141f875-1752-4c8c-8ae8-f33816f3b81b",
                "language": "sql"
            },
            "outputs": [
                {
                    "output_type": "display_data",
                    "data": {
                        "text/html": "(9 rows affected)"
                    },
                    "metadata": {}
                },
                {
                    "output_type": "display_data",
                    "data": {
                        "text/html": "Total execution time: 00:00:01.533"
                    },
                    "metadata": {}
                },
                {
                    "output_type": "execute_result",
                    "metadata": {},
                    "execution_count": 10,
                    "data": {
                        "application/vnd.dataresource+json": {
                            "schema": {
                                "fields": [
                                    {
                                        "name": "Állás megnevezése"
                                    },
                                    {
                                        "name": "Maximális óraszám"
                                    }
                                ]
                            },
                            "data": [
                                {
                                    "Állás megnevezése": "eladó",
                                    "Maximális óraszám": "6"
                                },
                                {
                                    "Állás megnevezése": "futár",
                                    "Maximális óraszám": "5"
                                },
                                {
                                    "Állás megnevezése": "kézbesítő",
                                    "Maximális óraszám": "6"
                                },
                                {
                                    "Állás megnevezése": "kisegítő",
                                    "Maximális óraszám": "6"
                                },
                                {
                                    "Állás megnevezése": "pincér",
                                    "Maximális óraszám": "6"
                                },
                                {
                                    "Állás megnevezése": "raktáros",
                                    "Maximális óraszám": "6"
                                },
                                {
                                    "Állás megnevezése": "ruhatáros",
                                    "Maximális óraszám": "4"
                                },
                                {
                                    "Állás megnevezése": "takarító",
                                    "Maximális óraszám": "6"
                                },
                                {
                                    "Állás megnevezése": "ügyfélszolgálati munkatárs",
                                    "Maximális óraszám": "4"
                                }
                            ]
                        },
                        "text/html": [
                            "<table>",
                            "<tr><th>Állás megnevezése</th><th>Maximális óraszám</th></tr>",
                            "<tr><td>eladó</td><td>6</td></tr>",
                            "<tr><td>futár</td><td>5</td></tr>",
                            "<tr><td>kézbesítő</td><td>6</td></tr>",
                            "<tr><td>kisegítő</td><td>6</td></tr>",
                            "<tr><td>pincér</td><td>6</td></tr>",
                            "<tr><td>raktáros</td><td>6</td></tr>",
                            "<tr><td>ruhatáros</td><td>4</td></tr>",
                            "<tr><td>takarító</td><td>6</td></tr>",
                            "<tr><td>ügyfélszolgálati munkatárs</td><td>4</td></tr>",
                            "</table>"
                        ]
                    }
                }
            ],
            "execution_count": 10
        },
        {
            "cell_type": "code",
            "source": [
                "select allas as 'Állás megnevezése',\r\n",
                "        min(oraszam) as 'Minimális óraszám'\r\n",
                "from munka\r\n",
                "group by allas"
            ],
            "metadata": {
                "azdata_cell_guid": "a32d47ee-7419-4484-a46c-a194925b463a",
                "language": "sql"
            },
            "outputs": [
                {
                    "output_type": "display_data",
                    "data": {
                        "text/html": "(9 rows affected)"
                    },
                    "metadata": {}
                },
                {
                    "output_type": "display_data",
                    "data": {
                        "text/html": "Total execution time: 00:00:00.068"
                    },
                    "metadata": {}
                },
                {
                    "output_type": "execute_result",
                    "metadata": {},
                    "execution_count": 11,
                    "data": {
                        "application/vnd.dataresource+json": {
                            "schema": {
                                "fields": [
                                    {
                                        "name": "Állás megnevezése"
                                    },
                                    {
                                        "name": "Minimális óraszám"
                                    }
                                ]
                            },
                            "data": [
                                {
                                    "Állás megnevezése": "eladó",
                                    "Minimális óraszám": "4"
                                },
                                {
                                    "Állás megnevezése": "futár",
                                    "Minimális óraszám": "5"
                                },
                                {
                                    "Állás megnevezése": "kézbesítő",
                                    "Minimális óraszám": "4"
                                },
                                {
                                    "Állás megnevezése": "kisegítő",
                                    "Minimális óraszám": "4"
                                },
                                {
                                    "Állás megnevezése": "pincér",
                                    "Minimális óraszám": "6"
                                },
                                {
                                    "Állás megnevezése": "raktáros",
                                    "Minimális óraszám": "4"
                                },
                                {
                                    "Állás megnevezése": "ruhatáros",
                                    "Minimális óraszám": "4"
                                },
                                {
                                    "Állás megnevezése": "takarító",
                                    "Minimális óraszám": "4"
                                },
                                {
                                    "Állás megnevezése": "ügyfélszolgálati munkatárs",
                                    "Minimális óraszám": "4"
                                }
                            ]
                        },
                        "text/html": [
                            "<table>",
                            "<tr><th>Állás megnevezése</th><th>Minimális óraszám</th></tr>",
                            "<tr><td>eladó</td><td>4</td></tr>",
                            "<tr><td>futár</td><td>5</td></tr>",
                            "<tr><td>kézbesítő</td><td>4</td></tr>",
                            "<tr><td>kisegítő</td><td>4</td></tr>",
                            "<tr><td>pincér</td><td>6</td></tr>",
                            "<tr><td>raktáros</td><td>4</td></tr>",
                            "<tr><td>ruhatáros</td><td>4</td></tr>",
                            "<tr><td>takarító</td><td>4</td></tr>",
                            "<tr><td>ügyfélszolgálati munkatárs</td><td>4</td></tr>",
                            "</table>"
                        ]
                    }
                }
            ],
            "execution_count": 11
        },
        {
            "cell_type": "code",
            "source": [
                "select count(*) as 'Nullértékek száma'\r\n",
                "from munka\r\n",
                "where diakaz is null\r\n",
                ""
            ],
            "metadata": {
                "azdata_cell_guid": "aa7bef8e-81e1-42a3-8315-b5f431777ff4",
                "language": "sql"
            },
            "outputs": [
                {
                    "output_type": "display_data",
                    "data": {
                        "text/html": "(1 row affected)"
                    },
                    "metadata": {}
                },
                {
                    "output_type": "display_data",
                    "data": {
                        "text/html": "Total execution time: 00:00:00.047"
                    },
                    "metadata": {}
                },
                {
                    "output_type": "execute_result",
                    "metadata": {},
                    "execution_count": 19,
                    "data": {
                        "application/vnd.dataresource+json": {
                            "schema": {
                                "fields": [
                                    {
                                        "name": "Nullértékek száma"
                                    }
                                ]
                            },
                            "data": [
                                {
                                    "Nullértékek száma": "10"
                                }
                            ]
                        },
                        "text/html": [
                            "<table>",
                            "<tr><th>Nullértékek száma</th></tr>",
                            "<tr><td>10</td></tr>",
                            "</table>"
                        ]
                    }
                }
            ],
            "execution_count": 19
        },
        {
            "cell_type": "code",
            "source": [
                "select count(*) as 'Értékek száma'\r\n",
                "from munka\r\n",
                "where diakaz is not null"
            ],
            "metadata": {
                "azdata_cell_guid": "f6abfab4-4d01-4a26-ad3d-d5c1699e30aa",
                "language": "sql"
            },
            "outputs": [
                {
                    "output_type": "display_data",
                    "data": {
                        "text/html": "(1 row affected)"
                    },
                    "metadata": {}
                },
                {
                    "output_type": "display_data",
                    "data": {
                        "text/html": "Total execution time: 00:00:00.080"
                    },
                    "metadata": {}
                },
                {
                    "output_type": "execute_result",
                    "metadata": {},
                    "execution_count": 20,
                    "data": {
                        "application/vnd.dataresource+json": {
                            "schema": {
                                "fields": [
                                    {
                                        "name": "Értékek száma"
                                    }
                                ]
                            },
                            "data": [
                                {
                                    "Értékek száma": "31"
                                }
                            ]
                        },
                        "text/html": [
                            "<table>",
                            "<tr><th>Értékek száma</th></tr>",
                            "<tr><td>31</td></tr>",
                            "</table>"
                        ]
                    }
                }
            ],
            "execution_count": 20
        },
        {
            "cell_type": "code",
            "source": [
                "SELECT d.nev as 'Munkavállaló neve',\r\n",
                "       COUNT(*) as 'Munkavállalás száma'\r\n",
                "FROM munka m JOIN diak d ON m.diakaz = d.diakaz\r\n",
                "WHERE m.diakaz IS NOT NULL\r\n",
                "Group by d.nev\r\n",
                "ORDER BY COUNT(*) DESC"
            ],
            "metadata": {
                "azdata_cell_guid": "5e8476d5-0baa-4118-ab31-a61f51748863",
                "language": "sql"
            },
            "outputs": [
                {
                    "output_type": "display_data",
                    "data": {
                        "text/html": "(10 rows affected)"
                    },
                    "metadata": {}
                },
                {
                    "output_type": "display_data",
                    "data": {
                        "text/html": "Total execution time: 00:00:00.059"
                    },
                    "metadata": {}
                },
                {
                    "output_type": "execute_result",
                    "metadata": {},
                    "execution_count": 23,
                    "data": {
                        "application/vnd.dataresource+json": {
                            "schema": {
                                "fields": [
                                    {
                                        "name": "Munkavállaló neve"
                                    },
                                    {
                                        "name": "Munkavállalás száma"
                                    }
                                ]
                            },
                            "data": [
                                {
                                    "Munkavállaló neve": "Ordasi Emma",
                                    "Munkavállalás száma": "6"
                                },
                                {
                                    "Munkavállaló neve": "Csóka Anna",
                                    "Munkavállalás száma": "4"
                                },
                                {
                                    "Munkavállaló neve": "Kapos Petra",
                                    "Munkavállalás száma": "4"
                                },
                                {
                                    "Munkavállaló neve": "Nyúl Tamás",
                                    "Munkavállalás száma": "4"
                                },
                                {
                                    "Munkavállaló neve": "Port Imre",
                                    "Munkavállalás száma": "3"
                                },
                                {
                                    "Munkavállaló neve": "Kos Péter",
                                    "Munkavállalás száma": "3"
                                },
                                {
                                    "Munkavállaló neve": "Kovács Imre",
                                    "Munkavállalás száma": "2"
                                },
                                {
                                    "Munkavállaló neve": "Kozma Patrícia",
                                    "Munkavállalás száma": "2"
                                },
                                {
                                    "Munkavállaló neve": "Koppány Olga",
                                    "Munkavállalás száma": "2"
                                },
                                {
                                    "Munkavállaló neve": "Horváth Emil",
                                    "Munkavállalás száma": "1"
                                }
                            ]
                        },
                        "text/html": [
                            "<table>",
                            "<tr><th>Munkavállaló neve</th><th>Munkavállalás száma</th></tr>",
                            "<tr><td>Ordasi Emma</td><td>6</td></tr>",
                            "<tr><td>Csóka Anna</td><td>4</td></tr>",
                            "<tr><td>Kapos Petra</td><td>4</td></tr>",
                            "<tr><td>Nyúl Tamás</td><td>4</td></tr>",
                            "<tr><td>Port Imre</td><td>3</td></tr>",
                            "<tr><td>Kos Péter</td><td>3</td></tr>",
                            "<tr><td>Kovács Imre</td><td>2</td></tr>",
                            "<tr><td>Kozma Patrícia</td><td>2</td></tr>",
                            "<tr><td>Koppány Olga</td><td>2</td></tr>",
                            "<tr><td>Horváth Emil</td><td>1</td></tr>",
                            "</table>"
                        ]
                    }
                }
            ],
            "execution_count": 23
        }
    ]
}